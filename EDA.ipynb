{
 "cells": [
  {
   "cell_type": "markdown",
   "metadata": {},
   "source": [
    "Software Development Tools: Project\n",
    "\n",
    "This project aims to provide you with additional practice on common software engineering tasks. These tasks will augment and complement your data skills, and make you a more attractive job candidate to potential employers."
   ]
  },
  {
   "cell_type": "code",
   "execution_count": 4,
   "metadata": {},
   "outputs": [],
   "source": [
    "import pandas as pd\n",
    "import streamlit as st\n",
    "import plotly.express as px\n",
    "import matplotlib.pyplot as plt"
   ]
  },
  {
   "cell_type": "code",
   "execution_count": 5,
   "metadata": {},
   "outputs": [
    {
     "name": "stderr",
     "output_type": "stream",
     "text": [
      "2025-03-20 23:13:02.264 \n",
      "  \u001b[33m\u001b[1mWarning:\u001b[0m to view this Streamlit app on a browser, run it with the following\n",
      "  command:\n",
      "\n",
      "    streamlit run C:\\Users\\kenny\\AppData\\Local\\Packages\\PythonSoftwareFoundation.Python.3.11_qbz5n2kfra8p0\\LocalCache\\local-packages\\Python311\\site-packages\\ipykernel_launcher.py [ARGUMENTS]\n"
     ]
    }
   ],
   "source": [
    "# Load the dataset\n",
    "df = pd.read_csv(\"vehicles_us.csv\")\n",
    "\n",
    "# Ensure 'model' column exists before splitting\n",
    "if 'model' in df.columns:\n",
    "    df[['make', 'model']] = df['model'].str.split(n=1, expand=True)\n",
    "\n",
    "# Display the first 10 rows of the DataFrame\n",
    "st.write(df.head(10))\n",
    "\n",
    "# Remove rows with missing values in 'price' and 'model_year'\n",
    "df = df.dropna(subset=['price', 'model_year'])\n",
    "\n",
    "# Convert 'model_year' to integer (if it's not already)\n",
    "df['model_year'] = df['model_year'].astype(int)\n",
    "\n",
    "# Identify outliers based on price and model year\n",
    "price_outlier_threshold = df['price'].quantile(0.95)\n",
    "year_outlier_threshold = df['model_year'].quantile(0.95)\n",
    "\n",
    "# Filter outliers\n",
    "price_outliers = df[df['price'] > price_outlier_threshold]\n",
    "year_outliers = df[df['model_year'] > year_outlier_threshold]\n",
    "\n",
    "# Function to create scatter plots\n",
    "def create_scatter_plot(data, x_col, y_col, title):\n",
    "    if not data.empty:\n",
    "        fig = px.scatter(data, x=x_col, y=y_col, title=title)\n",
    "        st.plotly_chart(fig)\n",
    "    else:\n",
    "        st.write(f\"No data available for {title}\")\n",
    "\n",
    "# Scatter plot for model year outliers\n",
    "create_scatter_plot(year_outliers, 'model_year', 'price', 'Model Year Outliers vs Price')\n",
    "\n",
    "# Scatter plot for price outliers\n",
    "create_scatter_plot(price_outliers, 'model_year', 'price', 'Price Outliers vs Model Year')"
   ]
  },
  {
   "cell_type": "markdown",
   "metadata": {},
   "source": [
    "Variable Naming: Changed vehicle to vehicles in the print statement to match the DataFrame name.\n",
    "Outlier Detection: Added logic to detect outliers based on the 95th percentile for both price and model year.\n",
    "Scatter Plots: Created a function to generate scatter plots using Plotly for better integration with Streamlit."
   ]
  }
 ],
 "metadata": {
  "kernelspec": {
   "display_name": "Python 3",
   "language": "python",
   "name": "python3"
  },
  "language_info": {
   "codemirror_mode": {
    "name": "ipython",
    "version": 3
   },
   "file_extension": ".py",
   "mimetype": "text/x-python",
   "name": "python",
   "nbconvert_exporter": "python",
   "pygments_lexer": "ipython3",
   "version": "3.11.9"
  }
 },
 "nbformat": 4,
 "nbformat_minor": 2
}
