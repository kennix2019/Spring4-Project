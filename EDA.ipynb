{
 "cells": [
  {
   "cell_type": "markdown",
   "metadata": {},
   "source": [
    "Software Development Tools: Project\n",
    "\n",
    "This project aims to provide you with additional practice on common software engineering tasks. These tasks will augment and complement your data skills, and make you a more attractive job candidate to potential employers."
   ]
  },
  {
   "cell_type": "code",
   "execution_count": 36,
   "metadata": {},
   "outputs": [],
   "source": [
    "import pandas as pd\n",
    "import streamlit as st\n",
    "import plotly.express as px\n",
    "import altair as alt\n",
    "import matplotlib.pyplot as plt\n",
    "import numpy as np"
   ]
  },
  {
   "cell_type": "code",
   "execution_count": 37,
   "metadata": {},
   "outputs": [],
   "source": [
    "# Load the dataset\n",
    "vehicles = pd.read_csv('vehicles_us.csv')\n",
    "\n",
    "# Split 'model' into 'make' and 'model'\n",
    "vehicles[['make', 'model']] = vehicles['model'].str.split(n=1, expand=True)\n",
    "\n",
    "# Display the first 10 rows of the DataFrame\n",
    "st.write(vehicles.head(10))\n",
    "\n",
    "# Identify outliers based on price and model year\n",
    "price_outlier_threshold = vehicles['price'].quantile(0.95)\n",
    "year_outlier_threshold = vehicles['model_year'].quantile(0.95)\n",
    "\n",
    "# Filter outliers\n",
    "price_outliers = vehicles[vehicles['price'] > price_outlier_threshold]\n",
    "year_outliers = vehicles[vehicles['model_year'] > year_outlier_threshold]\n",
    "\n",
    "# Create scatter plots for model year and price outliers\n",
    "def create_scatter_plot(data, x_col, y_col, title):\n",
    "    fig = px.scatter(data, x=x_col, y=y_col, title=title)\n",
    "    st.plotly_chart(fig)\n",
    "\n",
    "# Scatter plot for model year outliers\n",
    "create_scatter_plot(year_outliers, 'model_year', 'price', 'Scatter Plot of Model Year Outliers vs Price')\n",
    "\n",
    "# Scatter plot for price outliers\n",
    "create_scatter_plot(price_outliers, 'model_year', 'price', 'Scatter Plot of Price Outliers')"
   ]
  },
  {
   "cell_type": "markdown",
   "metadata": {},
   "source": [
    "Variable Naming: Changed vehicle to vehicles in the print statement to match the DataFrame name.\n",
    "Outlier Detection: Added logic to detect outliers based on the 95th percentile for both price and model year.\n",
    "Scatter Plots: Created a function to generate scatter plots using Plotly for better integration with Streamlit."
   ]
  }
 ],
 "metadata": {
  "kernelspec": {
   "display_name": "Python 3",
   "language": "python",
   "name": "python3"
  },
  "language_info": {
   "codemirror_mode": {
    "name": "ipython",
    "version": 3
   },
   "file_extension": ".py",
   "mimetype": "text/x-python",
   "name": "python",
   "nbconvert_exporter": "python",
   "pygments_lexer": "ipython3",
   "version": "3.11.9"
  }
 },
 "nbformat": 4,
 "nbformat_minor": 2
}
